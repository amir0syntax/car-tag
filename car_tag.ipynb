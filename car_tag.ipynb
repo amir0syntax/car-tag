{
 "cells": [
  {
   "cell_type": "code",
   "execution_count": 62,
   "metadata": {},
   "outputs": [],
   "source": [
    "import cv2\n",
    "import os\n",
    "import numpy as np\n",
    "from sklearn import linear_model\n",
    "from sklearn.model_selection import train_test_split"
   ]
  },
  {
   "cell_type": "code",
   "execution_count": 65,
   "metadata": {},
   "outputs": [],
   "source": [
    "x = np.empty((0,256))\n",
    "y = np.array([])\n",
    "a = 1\n",
    "for i in range (1,10):\n",
    "    files = os.listdir(f\"{i}\")\n",
    "    for photos in files:\n",
    "        img = cv2.imread(f\"{i}/\"+photos)\n",
    "        img = cv2.cvtColor(img,cv2.COLOR_BGR2GRAY)\n",
    "        img = cv2.resize(img,(8,32))\n",
    "        img = img.flatten()\n",
    "        x = np.append(x,[img],axis=0)\n",
    "        y = np.append(y, i)"
   ]
  },
  {
   "cell_type": "code",
   "execution_count": 66,
   "metadata": {},
   "outputs": [
    {
     "name": "stdout",
     "output_type": "stream",
     "text": [
      "x shape: (3101, 256)\n",
      "y shape: (3101,)\n"
     ]
    }
   ],
   "source": [
    "print(f\"x shape: {x.shape}\")\n",
    "print(f\"y shape: {y.shape}\")"
   ]
  },
  {
   "cell_type": "code",
   "execution_count": 70,
   "metadata": {},
   "outputs": [
    {
     "name": "stderr",
     "output_type": "stream",
     "text": [
      "C:\\Users\\asus\\AppData\\Roaming\\Python\\Python38\\site-packages\\sklearn\\linear_model\\_logistic.py:460: ConvergenceWarning: lbfgs failed to converge (status=1):\n",
      "STOP: TOTAL NO. of ITERATIONS REACHED LIMIT.\n",
      "\n",
      "Increase the number of iterations (max_iter) or scale the data as shown in:\n",
      "    https://scikit-learn.org/stable/modules/preprocessing.html\n",
      "Please also refer to the documentation for alternative solver options:\n",
      "    https://scikit-learn.org/stable/modules/linear_model.html#logistic-regression\n",
      "  n_iter_i = _check_optimize_result(\n"
     ]
    }
   ],
   "source": [
    "X_train ,X_test ,Y_train , Y_test = train_test_split(x ,y ,test_size=0.1)\n",
    "model = linear_model.LogisticRegression()\n",
    "model.fit(X_train, Y_train)\n",
    "out = model.predict(X_test)"
   ]
  },
  {
   "cell_type": "code",
   "execution_count": 73,
   "metadata": {},
   "outputs": [
    {
     "data": {
      "text/plain": [
       "array([7., 6., 3., 2., 1., 2., 1., 3., 5., 3., 9., 6., 7., 2., 7., 4., 8.,\n",
       "       2., 4., 5., 1., 7., 3., 6., 4., 7., 9., 1., 9., 5., 6., 2., 2., 1.,\n",
       "       1., 2., 9., 8., 3., 9., 8., 2., 9., 7., 2., 6., 2., 3., 2., 8., 5.,\n",
       "       3., 7., 9., 7., 4., 6., 4., 6., 6., 2., 5., 7., 2., 7., 5., 4., 3.,\n",
       "       7., 5., 7., 9., 6., 8., 2., 2., 7., 3., 5., 5., 9., 8., 2., 4., 8.,\n",
       "       4., 2., 1., 3., 9., 3., 7., 8., 9., 8., 2., 6., 3., 8., 6., 1., 7.,\n",
       "       8., 7., 3., 7., 7., 6., 5., 3., 9., 9., 5., 7., 1., 2., 8., 6., 4.,\n",
       "       7., 9., 9., 3., 5., 9., 2., 1., 9., 5., 4., 1., 4., 4., 1., 9., 4.,\n",
       "       4., 1., 6., 3., 5., 2., 2., 2., 4., 5., 3., 2., 7., 1., 3., 8., 4.,\n",
       "       2., 8., 9., 1., 1., 6., 4., 5., 9., 7., 7., 1., 2., 2., 6., 9., 6.,\n",
       "       6., 3., 2., 9., 1., 5., 6., 9., 3., 1., 7., 6., 6., 1., 2., 2., 2.,\n",
       "       3., 6., 1., 1., 5., 6., 5., 2., 1., 9., 3., 5., 1., 5., 4., 9., 2.,\n",
       "       4., 9., 7., 5., 9., 4., 1., 1., 9., 3., 6., 7., 9., 4., 9., 9., 1.,\n",
       "       6., 3., 2., 9., 2., 3., 8., 7., 2., 3., 9., 8., 7., 3., 2., 4., 2.,\n",
       "       6., 4., 6., 8., 2., 1., 6., 7., 2., 7., 4., 5., 3., 1., 5., 2., 7.,\n",
       "       4., 9., 9., 3., 3., 7., 8., 8., 7., 3., 1., 1., 9., 2., 2., 6., 9.,\n",
       "       5., 7., 3., 8., 2., 2., 4., 7., 7., 3., 4., 7., 8., 1., 6., 5., 1.,\n",
       "       4., 1., 3., 7., 5., 1., 3., 5., 1., 3., 4., 2., 9., 1., 8., 3., 5.,\n",
       "       8., 3., 9., 6., 1.])"
      ]
     },
     "execution_count": 73,
     "metadata": {},
     "output_type": "execute_result"
    }
   ],
   "source": [
    "out"
   ]
  },
  {
   "cell_type": "code",
   "execution_count": 74,
   "metadata": {},
   "outputs": [
    {
     "data": {
      "text/plain": [
       "array([7., 6., 3., 2., 1., 2., 1., 3., 5., 3., 9., 6., 7., 2., 7., 4., 8.,\n",
       "       2., 4., 5., 2., 7., 3., 2., 4., 7., 9., 2., 9., 5., 6., 2., 2., 1.,\n",
       "       1., 2., 9., 8., 3., 9., 8., 2., 9., 7., 2., 6., 2., 3., 2., 8., 5.,\n",
       "       1., 7., 9., 8., 4., 6., 4., 6., 6., 6., 5., 7., 2., 7., 5., 3., 3.,\n",
       "       7., 5., 7., 9., 6., 8., 2., 2., 7., 3., 5., 5., 9., 8., 2., 4., 8.,\n",
       "       4., 2., 1., 3., 9., 3., 7., 8., 9., 8., 1., 6., 3., 8., 6., 1., 7.,\n",
       "       8., 7., 3., 7., 7., 6., 7., 3., 6., 9., 5., 7., 1., 2., 8., 6., 4.,\n",
       "       7., 9., 9., 8., 5., 9., 2., 1., 9., 5., 4., 1., 6., 4., 1., 9., 8.,\n",
       "       3., 1., 6., 3., 5., 2., 2., 2., 4., 5., 4., 2., 2., 1., 3., 5., 4.,\n",
       "       2., 8., 3., 1., 1., 6., 4., 5., 9., 7., 7., 1., 2., 2., 6., 1., 6.,\n",
       "       3., 3., 2., 9., 1., 5., 6., 9., 5., 1., 7., 6., 6., 1., 2., 9., 2.,\n",
       "       3., 6., 1., 1., 5., 6., 5., 2., 1., 9., 8., 5., 1., 5., 6., 9., 2.,\n",
       "       4., 9., 7., 5., 9., 4., 1., 1., 9., 3., 6., 7., 9., 4., 9., 9., 1.,\n",
       "       6., 3., 2., 9., 2., 3., 8., 7., 2., 3., 9., 8., 7., 3., 2., 4., 2.,\n",
       "       6., 4., 6., 2., 2., 1., 6., 7., 2., 7., 4., 5., 3., 6., 5., 2., 7.,\n",
       "       4., 9., 9., 3., 3., 7., 8., 8., 8., 4., 1., 1., 9., 7., 2., 6., 9.,\n",
       "       5., 7., 3., 8., 2., 2., 4., 7., 2., 3., 4., 7., 8., 7., 2., 5., 1.,\n",
       "       4., 1., 3., 7., 5., 1., 3., 5., 1., 3., 4., 9., 9., 9., 8., 3., 5.,\n",
       "       8., 3., 9., 6., 1.])"
      ]
     },
     "execution_count": 74,
     "metadata": {},
     "output_type": "execute_result"
    }
   ],
   "source": [
    "Y_test"
   ]
  }
 ],
 "metadata": {
  "kernelspec": {
   "display_name": "Python 3",
   "language": "python",
   "name": "python3"
  },
  "language_info": {
   "codemirror_mode": {
    "name": "ipython",
    "version": 3
   },
   "file_extension": ".py",
   "mimetype": "text/x-python",
   "name": "python",
   "nbconvert_exporter": "python",
   "pygments_lexer": "ipython3",
   "version": "3.8.8"
  }
 },
 "nbformat": 4,
 "nbformat_minor": 2
}
